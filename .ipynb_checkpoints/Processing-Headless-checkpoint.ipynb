{
 "cells": [
  {
   "cell_type": "code",
   "execution_count": 1,
   "metadata": {},
   "outputs": [],
   "source": [
    "import struct\n",
    "import numpy as np\n",
    "import os\n",
    "import threading"
   ]
  },
  {
   "cell_type": "code",
   "execution_count": 2,
   "metadata": {},
   "outputs": [],
   "source": [
    "import matplotlib.pyplot as plt\n",
    "import healpy as hp\n",
    "nside = 64\n",
    "npix = hp.nside2npix(nside)"
   ]
  },
  {
   "cell_type": "code",
   "execution_count": 3,
   "metadata": {},
   "outputs": [],
   "source": [
    "def convertToSpherical(xyz):\n",
    "    # col 0: r, col 1: theta, col 2: phi\n",
    "    sphericalPositons = np.zeros((len(xyz),3))\n",
    "    xySquared = xyz[:,0]**2 + xyz[:,1]**2\n",
    "    # r\n",
    "    sphericalPositons[:,0] = np.sqrt(xySquared+xyz[:,2]**2)\n",
    "    # theta - many options for this calc\n",
    "    sphericalPositons[:,1] = np.arctan2(np.sqrt(xySquared), xyz[:,2])\n",
    "    # phi\n",
    "    sphericalPositons[:,2] = np.arctan2(xyz[:,1],xyz[:,0])\n",
    "    return sphericalPositons"
   ]
  },
  {
   "cell_type": "code",
   "execution_count": 4,
   "metadata": {},
   "outputs": [],
   "source": [
    "# Reading lp-cola unformatted files\n",
    "def unf_read_file(file, p_list=[], np=6):\n",
    "    with open(file, mode='rb') as f:\n",
    "        tot_n = 0\n",
    "        cnt = 0\n",
    "        while (True):\n",
    "            cnt += 1\n",
    "            r = f.read(4)\n",
    "            if not r: break\n",
    "            a1 = struct.unpack('i', r)\n",
    "            r = f.read(a1[0])\n",
    "            n = struct.unpack('i', r)\n",
    "            r = f.read(8)\n",
    "            a, b = struct.unpack('2i', r)\n",
    "            r = f.read(b)\n",
    "            p_list.extend(struct.unpack(str(n[0] * np) + 'f', r))\n",
    "            r = f.read(4)\n",
    "            tot_n += n[0]\n",
    "    f.close()\n",
    "    return tot_n"
   ]
  },
  {
   "cell_type": "code",
   "execution_count": 5,
   "metadata": {},
   "outputs": [],
   "source": [
    "def readSetToBins(startFile, stopFile, index):\n",
    "    tempArray = []\n",
    "    numcount = []\n",
    "    for i in range(startFile,stopFile):\n",
    "        path = \"Data/cone_test_lightcone.\"+str(i)\n",
    "        if os.path.isfile(path):\n",
    "            unf_read_file(path, p_list=tempArray)\n",
    "\n",
    "            positionFormatted = np.reshape(tempArray,(-1,6))[:,0:3]\n",
    "            tempArray = []\n",
    "            \n",
    "            positionFormatted = np.subtract(positionFormatted,64*np.ones(np.shape(positionFormatted)))\n",
    "            \n",
    "            sphereCoord = convertToSpherical(positionFormatted)\n",
    "            \n",
    "            positionFormatted = []\n",
    "            \n",
    "            #only take points within a certain radius\n",
    "            sphereCoord = sphereCoord[sphereCoord[:,0]<200]\n",
    "\n",
    "            pixIndicies = hp.ang2pix(nside,sphereCoord[:,1],sphereCoord[:,2])\n",
    "\n",
    "            if len(numcount)==0:\n",
    "                numcount = np.bincount(pixIndicies, minlength=npix)\n",
    "            else:\n",
    "                numcount = np.add(numcount, np.bincount(pixIndicies, minlength=npix) )\n",
    "            if i%10==0:\n",
    "                print(i)\n",
    "        \n",
    "        outputs[index] = numcount"
   ]
  },
  {
   "cell_type": "code",
   "execution_count": 6,
   "metadata": {},
   "outputs": [
    {
     "name": "stdout",
     "output_type": "stream",
     "text": [
      "Reading files from 0 to 2\n",
      "Reading files from 2 to 4\n",
      "Reading files from 4 to 6\n",
      "Reading files from 6 to 8\n",
      "Reading files from 8 to 10\n",
      "Reading files from 10 to 12\n",
      "Reading files from 12 to 14\n",
      "Reading files from 14 to 16\n",
      "Reading files from 16 to 18\n",
      "Reading files from 18 to 20\n",
      "Reading files from 20 to 22\n",
      "Reading files from 22 to 24\n",
      "Reading files from 24 to 26\n",
      "Reading files from 26 to 28\n",
      "Reading files from 28 to 30\n",
      "Reading files from 30 to 32\n",
      "10\n",
      "20\n",
      "0\n",
      "30\n"
     ]
    }
   ],
   "source": [
    "numThreads = 16\n",
    "ranges = np.linspace(0,32,numThreads+1).astype(int)\n",
    "outputs = [None]*numThreads\n",
    "\n",
    "threads = [None]*numThreads\n",
    "\n",
    "for i in range(0,numThreads):\n",
    "    print(\"Reading files from \"+str(ranges[i])+\" to \" +str(ranges[i+1]))\n",
    "    threads[i] = threading.Thread(target=readSetToBins, args=(ranges[i],ranges[i+1], i))\n",
    "\n",
    "\n",
    "for i in range(0,numThreads):\n",
    "    threads[i].start()\n",
    "\n",
    "for i in range(0,numThreads):\n",
    "    threads[i].join()"
   ]
  },
  {
   "cell_type": "code",
   "execution_count": 9,
   "metadata": {},
   "outputs": [
    {
     "name": "stderr",
     "output_type": "stream",
     "text": [
      "setting the output map dtype to [dtype('int64')]\n"
     ]
    },
    {
     "name": "stdout",
     "output_type": "stream",
     "text": [
      "16777216\n",
      "NSIDE = 64\n"
     ]
    }
   ],
   "source": [
    "numcount = np.cumsum(outputs,axis=0)\n",
    "print(sum(numcount[-1]))\n",
    "\n",
    "print(\"NSIDE = \"+str(nside))\n",
    "\n",
    "hp.fitsfunc.write_map(\"Map.fits\", numcount[-1], overwrite=True)"
   ]
  },
  {
   "cell_type": "code",
   "execution_count": null,
   "metadata": {},
   "outputs": [],
   "source": []
  },
  {
   "cell_type": "code",
   "execution_count": null,
   "metadata": {},
   "outputs": [],
   "source": []
  }
 ],
 "metadata": {
  "kernelspec": {
   "display_name": "Python 3",
   "language": "python",
   "name": "python3"
  },
  "language_info": {
   "codemirror_mode": {
    "name": "ipython",
    "version": 3
   },
   "file_extension": ".py",
   "mimetype": "text/x-python",
   "name": "python",
   "nbconvert_exporter": "python",
   "pygments_lexer": "ipython3",
   "version": "3.8.10"
  }
 },
 "nbformat": 4,
 "nbformat_minor": 4
}
