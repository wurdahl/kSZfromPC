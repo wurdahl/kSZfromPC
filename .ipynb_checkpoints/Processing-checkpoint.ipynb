{
 "cells": [
  {
   "cell_type": "code",
   "execution_count": 1,
   "metadata": {},
   "outputs": [],
   "source": [
    "import struct\n",
    "import numpy as np"
   ]
  },
  {
   "cell_type": "code",
   "execution_count": 2,
   "metadata": {},
   "outputs": [],
   "source": [
    "import matplotlib.pyplot as plt\n",
    "import healpy as hp\n",
    "\n",
    "%matplotlib inline"
   ]
  },
  {
   "cell_type": "code",
   "execution_count": 3,
   "metadata": {},
   "outputs": [],
   "source": [
    "# Reading lp-cola unformatted files\n",
    "def unf_read_file(file, p_list=[], np=6):\n",
    "    with open(file, mode='rb') as f:\n",
    "        tot_n = 0\n",
    "        cnt = 0\n",
    "        while (True):\n",
    "            cnt += 1\n",
    "            r = f.read(4)\n",
    "            if not r: break\n",
    "            a1 = struct.unpack('i', r)\n",
    "            r = f.read(a1[0])\n",
    "            n = struct.unpack('i', r)\n",
    "            r = f.read(8)\n",
    "            a, b = struct.unpack('2i', r)\n",
    "            r = f.read(b)\n",
    "            p_list.extend(struct.unpack(str(n[0] * np) + 'f', r))\n",
    "            r = f.read(4)\n",
    "            tot_n += n[0]\n",
    "    f.close()\n",
    "    return tot_n"
   ]
  },
  {
   "cell_type": "code",
   "execution_count": 4,
   "metadata": {},
   "outputs": [],
   "source": [
    "tempArray = []\n",
    "for i in range(0,10):\n",
    "    unf_read_file(\"Data/cone_test_lightcone.\"+str(i), p_list=tempArray)\n",
    "    if not i:\n",
    "        data = np.array(tempArray)\n",
    "    else:\n",
    "        data = np.append(data,tempArray)"
   ]
  },
  {
   "cell_type": "code",
   "execution_count": 5,
   "metadata": {},
   "outputs": [],
   "source": [
    "dataFormatted = np.reshape(data,(-1,6))"
   ]
  },
  {
   "cell_type": "code",
   "execution_count": 6,
   "metadata": {},
   "outputs": [
    {
     "data": {
      "text/plain": [
       "(18477104, 6)"
      ]
     },
     "execution_count": 6,
     "metadata": {},
     "output_type": "execute_result"
    }
   ],
   "source": [
    "np.shape(dataFormatted)"
   ]
  },
  {
   "cell_type": "code",
   "execution_count": 35,
   "metadata": {},
   "outputs": [],
   "source": [
    "position=dataFormatted[:,0:3]"
   ]
  },
  {
   "cell_type": "code",
   "execution_count": 25,
   "metadata": {},
   "outputs": [
    {
     "data": {
      "text/plain": [
       "(18477104, 3)"
      ]
     },
     "execution_count": 25,
     "metadata": {},
     "output_type": "execute_result"
    }
   ],
   "source": [
    "np.shape(sphericalPositons)"
   ]
  },
  {
   "cell_type": "code",
   "execution_count": 37,
   "metadata": {},
   "outputs": [],
   "source": [
    "def convertToPolar(xyz):\n",
    "    # col 0: r, col 1: theta, col 2: phi\n",
    "    sphericalPositons = np.zeros((len(xyz),3))\n",
    "    xySquared = xyz[:,0]**2 + xyz[:,1]**2\n",
    "    # r\n",
    "    sphericalPositons[:,0] = np.sqrt(xySquared+xyz[:,2]**2)\n",
    "    # theta - many options for this calc\n",
    "    sphericalPositons[:,1] = np.arctan2(np.sqrt(xySquared), xyz[:,2])\n",
    "    # phi\n",
    "    sphericalPositons[:,2] = np.arctan2(xyz[:,1],xyz[:,0])\n",
    "    return sphericalPositons"
   ]
  },
  {
   "cell_type": "code",
   "execution_count": 38,
   "metadata": {},
   "outputs": [
    {
     "data": {
      "text/plain": [
       "array([[2.93816428e+02, 1.03433075e+00, 1.56493984e+00],\n",
       "       [3.09652892e+02, 6.40957014e-01, 1.55889675e+00],\n",
       "       [3.09649630e+02, 6.39244452e-01, 1.55958508e+00],\n",
       "       ...,\n",
       "       [4.74200312e+01, 1.30316165e+00, 1.14635120e-01],\n",
       "       [2.47758875e+02, 1.44348934e+00, 1.38649089e+00],\n",
       "       [2.34024208e+02, 8.84636978e-01, 1.31940086e+00]])"
      ]
     },
     "execution_count": 38,
     "metadata": {},
     "output_type": "execute_result"
    }
   ],
   "source": [
    "convertToPolar(position)"
   ]
  },
  {
   "cell_type": "code",
   "execution_count": null,
   "metadata": {},
   "outputs": [],
   "source": [
    "np.digitize"
   ]
  }
 ],
 "metadata": {
  "kernelspec": {
   "display_name": "Python 3",
   "language": "python",
   "name": "python3"
  },
  "language_info": {
   "codemirror_mode": {
    "name": "ipython",
    "version": 3
   },
   "file_extension": ".py",
   "mimetype": "text/x-python",
   "name": "python",
   "nbconvert_exporter": "python",
   "pygments_lexer": "ipython3",
   "version": "3.8.10"
  }
 },
 "nbformat": 4,
 "nbformat_minor": 4
}
