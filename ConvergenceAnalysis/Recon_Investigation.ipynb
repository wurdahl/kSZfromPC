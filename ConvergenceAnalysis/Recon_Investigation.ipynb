{
 "cells": [
  {
   "cell_type": "code",
   "execution_count": 1,
   "id": "d3432eef",
   "metadata": {},
   "outputs": [],
   "source": [
    "import healpy as hp\n",
    "import numpy as np\n",
    "import matplotlib.pyplot as plt"
   ]
  },
  {
   "cell_type": "code",
   "execution_count": 14,
   "id": "a342a8d9",
   "metadata": {},
   "outputs": [
    {
     "name": "stdout",
     "output_type": "stream",
     "text": [
      "Using matplotlib backend: Qt5Agg\n"
     ]
    }
   ],
   "source": [
    "%matplotlib"
   ]
  },
  {
   "cell_type": "code",
   "execution_count": 2,
   "id": "caed46ba",
   "metadata": {},
   "outputs": [],
   "source": [
    "kSZ = np.load('./MAPS/kSZ_NS_1024_R_2968_P_2048_DV_192_Sd_844949.npy')\n",
    "overdensity = np.load('./MAPS/overdensity_NS_1024_R_2968_P_2048_DV_192_Sd_844949_SB_7.npy')\n",
    "velocityField = np.load('./MAPS/velocityField_NS_1024_R_2968_P_2048_DV_192_Sd_844949_SB_7.npy')"
   ]
  },
  {
   "cell_type": "code",
   "execution_count": 3,
   "id": "bcf89a7a",
   "metadata": {},
   "outputs": [],
   "source": [
    "nside=1024"
   ]
  },
  {
   "cell_type": "code",
   "execution_count": 18,
   "id": "2a4c1b3d",
   "metadata": {},
   "outputs": [],
   "source": [
    "hp.mollview(kSZ,max=1*10**-5,min=-1*10**-5)"
   ]
  },
  {
   "cell_type": "code",
   "execution_count": 19,
   "id": "8e1e778e",
   "metadata": {},
   "outputs": [],
   "source": [
    "hp.zoomtool.mollzoom(kSZ,max=1*10**-5,min=-1*10**-5)"
   ]
  },
  {
   "cell_type": "code",
   "execution_count": 82,
   "id": "ca5468c9",
   "metadata": {},
   "outputs": [],
   "source": [
    "hp.mollview(overdensity,min=-1,max=2)"
   ]
  },
  {
   "cell_type": "code",
   "execution_count": 83,
   "id": "53b7b466",
   "metadata": {},
   "outputs": [],
   "source": [
    "hp.zoomtool.mollzoom(overdensity)"
   ]
  },
  {
   "cell_type": "code",
   "execution_count": 67,
   "id": "eb43ab99",
   "metadata": {},
   "outputs": [],
   "source": [
    "hp.mollview(velocityField)"
   ]
  },
  {
   "cell_type": "code",
   "execution_count": 68,
   "id": "96aa582b",
   "metadata": {},
   "outputs": [],
   "source": [
    "hp.zoomtool.mollzoom(velocityField,title='Truth')"
   ]
  },
  {
   "cell_type": "code",
   "execution_count": 79,
   "id": "dd0e6f98",
   "metadata": {},
   "outputs": [
    {
     "name": "stderr",
     "output_type": "stream",
     "text": [
      "/tmp/ipykernel_1416/1925348625.py:22: RuntimeWarning: invalid value encountered in true_divide\n",
      "  CMB_camb = powers['total'][:,0]/cambFactor\n"
     ]
    }
   ],
   "source": [
    "import camb\n",
    "#import pywigxjpf as pywig\n",
    "#from joblib import Parallel, delayed\n",
    "import sys, argparse, multiprocessing\n",
    "#from common import *\n",
    "from scipy.signal import savgol_filter\n",
    "\n",
    "\n",
    "# In[9]:\n",
    "\n",
    "\n",
    "#Make Fake CMB\n",
    "h=0.69\n",
    "pars = camb.CAMBparams()\n",
    "pars.set_cosmology(H0=100.0*h, ombh2=0.048*h**2, omch2=0.262*h**2, mnu=0.06, omk=0)\n",
    "pars.InitPower.set_params(As=2e-9, ns=0.96, r=0)\n",
    "pars.set_for_lmax(6144, lens_potential_accuracy=0)\n",
    "results = camb.get_results(pars)\n",
    "powers =results.get_cmb_power_spectra(pars, CMB_unit='K')\n",
    "l=np.arange(0,len(powers['total'][:,0]))\n",
    "cambFactor = l*(l+1)/(2*np.pi)\n",
    "CMB_camb = powers['total'][:,0]/cambFactor\n",
    "CMB_camb[0]=0.0\n",
    "\n",
    "#rho map is just the overdensity\n",
    "def quadEst(ksz_map, rho_map):\n",
    "\n",
    "    ksz_PS = hp.anafast(ksz_map)\n",
    "\n",
    "    CMB_map = hp.sphtfunc.synfast(CMB_camb,nside=nside);\n",
    "\n",
    "    Obs_T_map = ksz_map + CMB_map\n",
    "\n",
    "    ClTT = hp.anafast(Obs_T_map)\n",
    "    ClTT_filtered = np.concatenate(([1.0], savgol_filter(ClTT[1:], 51, 3)))\n",
    "\n",
    "    dTlm = hp.map2alm(Obs_T_map)\n",
    "    dlm = hp.map2alm(rho_map)\n",
    "\n",
    "    dTlm_resc = hp.almxfl(dTlm, 1.0/ClTT)\n",
    "    dT_resc = hp.alm2map(dTlm_resc, nside)\n",
    "    dlm = -1.0*dlm # dlm_resc = hp.almxfl(dlm, 1.0) #Cltd/Cldd\n",
    "    d_resc = hp.alm2map(dlm, nside)\n",
    "\n",
    "    unnorm_veff_reconstlm = hp.map2alm(dT_resc*d_resc)\n",
    "    unnorm_veff_reconst_ps = hp.alm2cl(unnorm_veff_reconstlm)\n",
    "    unnorm_veff_reconst = hp.alm2map(unnorm_veff_reconstlm, nside)\n",
    "\n",
    "    return unnorm_veff_reconst\n"
   ]
  },
  {
   "cell_type": "code",
   "execution_count": 80,
   "id": "c0cb5cb4",
   "metadata": {},
   "outputs": [],
   "source": [
    "reconstruction = quadEst(kSZ,overdensity)"
   ]
  },
  {
   "cell_type": "code",
   "execution_count": 71,
   "id": "105864d4",
   "metadata": {},
   "outputs": [],
   "source": [
    "smoothRecon = hp.smoothing(reconstruction, .05)"
   ]
  },
  {
   "cell_type": "code",
   "execution_count": 51,
   "id": "9fb884e0",
   "metadata": {},
   "outputs": [],
   "source": [
    "plt.hist(smoothRecon,bins=np.linspace(-.25*10**10,.25*10**10));"
   ]
  },
  {
   "cell_type": "code",
   "execution_count": 59,
   "id": "117d7280",
   "metadata": {},
   "outputs": [],
   "source": [
    "hp.mollview(smoothRecon,min=-.25*10**10,max=.25*10**10,title='Reconstruction')"
   ]
  },
  {
   "cell_type": "code",
   "execution_count": 72,
   "id": "8a7ef90a",
   "metadata": {},
   "outputs": [],
   "source": [
    "hp.zoomtool.mollzoom(smoothRecon,title='Reconstruction')"
   ]
  },
  {
   "cell_type": "code",
   "execution_count": 81,
   "id": "cb787391",
   "metadata": {},
   "outputs": [],
   "source": [
    "hp.zoomtool.mollzoom(reconstruction,title='Reconstruction')"
   ]
  },
  {
   "cell_type": "code",
   "execution_count": 47,
   "id": "f410c33f",
   "metadata": {},
   "outputs": [],
   "source": [
    "hp.mollview(reconstruction,min=-.25*10**10,max=.25*10**10,title='Reconstruction')"
   ]
  },
  {
   "cell_type": "code",
   "execution_count": 27,
   "id": "521d89ca",
   "metadata": {},
   "outputs": [],
   "source": [
    "def Correlation(map1, map2):\n",
    "    return hp.anafast(map1,map2)/(np.sqrt(hp.anafast(map1)*hp.anafast(map2))+np.finfo(np.float32).eps)"
   ]
  },
  {
   "cell_type": "code",
   "execution_count": 57,
   "id": "16ca0359",
   "metadata": {},
   "outputs": [],
   "source": [
    "velCorr = Correlation(smoothRecon,velocityField)"
   ]
  },
  {
   "cell_type": "code",
   "execution_count": 58,
   "id": "8ddb4555",
   "metadata": {},
   "outputs": [
    {
     "data": {
      "text/plain": [
       "[<matplotlib.lines.Line2D at 0x7f3d184db0d0>]"
      ]
     },
     "execution_count": 58,
     "metadata": {},
     "output_type": "execute_result"
    }
   ],
   "source": [
    "plt.semilogx(velCorr)"
   ]
  },
  {
   "cell_type": "code",
   "execution_count": null,
   "id": "2eb5dca5",
   "metadata": {},
   "outputs": [],
   "source": []
  }
 ],
 "metadata": {
  "kernelspec": {
   "display_name": "base",
   "language": "python",
   "name": "base"
  },
  "language_info": {
   "codemirror_mode": {
    "name": "ipython",
    "version": 3
   },
   "file_extension": ".py",
   "mimetype": "text/x-python",
   "name": "python",
   "nbconvert_exporter": "python",
   "pygments_lexer": "ipython3",
   "version": "3.9.7"
  }
 },
 "nbformat": 4,
 "nbformat_minor": 5
}
