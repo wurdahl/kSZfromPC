{
 "cells": [
  {
   "cell_type": "code",
   "execution_count": 1,
   "id": "e1ecd125",
   "metadata": {},
   "outputs": [],
   "source": [
    "import healpy as hp\n",
    "import numpy as np"
   ]
  },
  {
   "cell_type": "code",
   "execution_count": 3,
   "id": "b2480018",
   "metadata": {},
   "outputs": [],
   "source": [
    "randMap = hp.sphtfunc.synfast(cls=np.ones(6144),nside=1024);"
   ]
  },
  {
   "cell_type": "code",
   "execution_count": 9,
   "id": "fde9fa90",
   "metadata": {},
   "outputs": [
    {
     "name": "stdout",
     "output_type": "stream",
     "text": [
      "  Creating pywig tables...\n",
      "/home/wurdahl/anaconda3/lib/python3.9/site-packages/healpy/fitsfunc.py:368: UserWarning: If you are not specifying the input dtype and using the default np.float64 dtype of read_map(), please consider that it will change in a future version to None as to keep the same dtype of the input file: please explicitly set the dtype if it is important to you.\n",
      "  warnings.warn(\n",
      "Traceback (most recent call last):\n",
      "  File \"/mnt/c/Users/wurda/Documents/GitHub/kSZfromPC/kSZ_reconstruct.py\", line 179, in <module>\n",
      "    tau_map = -1.0*getMap(\"N_uncertain\", NSIDE=NSIDE_WORKING) #\n",
      "  File \"/mnt/c/Users/wurda/Documents/GitHub/kSZfromPC/common.py\", line 97, in getMap\n",
      "    _map = getFits(MAPS_OUTPUT_DIR+name+\".fits\")\n",
      "  File \"/mnt/c/Users/wurda/Documents/GitHub/kSZfromPC/common.py\", line 89, in getFits\n",
      "    data = hp.fitsfunc.read_map(filepath)\n",
      "  File \"/home/wurdahl/anaconda3/lib/python3.9/site-packages/healpy/fitsfunc.py\", line 378, in read_map\n",
      "    filename = pf.open(filename, memmap=memmap)\n",
      "  File \"/home/wurdahl/anaconda3/lib/python3.9/site-packages/astropy/io/fits/hdu/hdulist.py\", line 173, in fitsopen\n",
      "    return HDUList.fromfile(name, mode, memmap, save_backup, cache,\n",
      "  File \"/home/wurdahl/anaconda3/lib/python3.9/site-packages/astropy/io/fits/hdu/hdulist.py\", line 408, in fromfile\n",
      "    return cls._readfrom(fileobj=fileobj, mode=mode, memmap=memmap,\n",
      "  File \"/home/wurdahl/anaconda3/lib/python3.9/site-packages/astropy/io/fits/hdu/hdulist.py\", line 1064, in _readfrom\n",
      "    fileobj = _File(fileobj, mode=mode, memmap=memmap, cache=cache)\n",
      "  File \"/home/wurdahl/anaconda3/lib/python3.9/site-packages/astropy/utils/decorators.py\", line 536, in wrapper\n",
      "    return function(*args, **kwargs)\n",
      "  File \"/home/wurdahl/anaconda3/lib/python3.9/site-packages/astropy/io/fits/file.py\", line 170, in __init__\n",
      "    self._open_filename(fileobj, mode, overwrite)\n",
      "  File \"/home/wurdahl/anaconda3/lib/python3.9/site-packages/astropy/io/fits/file.py\", line 558, in _open_filename\n",
      "    self._file = fileobj_open(self.name, IO_FITS_MODES[mode])\n",
      "  File \"/home/wurdahl/anaconda3/lib/python3.9/site-packages/astropy/io/fits/util.py\", line 390, in fileobj_open\n",
      "    return open(filename, mode, buffering=0)\n",
      "FileNotFoundError: [Errno 2] No such file or directory: 'halomaps.z0.40-z0.50.mp0.0000_NSIDE-4096/N_uncertain.fits'\n"
     ]
    }
   ],
   "source": [
    "!python3 kSZ_reconstruct.py --ksz_reconstruction"
   ]
  },
  {
   "cell_type": "code",
   "execution_count": null,
   "id": "bc2ee6e4",
   "metadata": {},
   "outputs": [],
   "source": []
  }
 ],
 "metadata": {
  "kernelspec": {
   "display_name": "base",
   "language": "python",
   "name": "base"
  },
  "language_info": {
   "codemirror_mode": {
    "name": "ipython",
    "version": 3
   },
   "file_extension": ".py",
   "mimetype": "text/x-python",
   "name": "python",
   "nbconvert_exporter": "python",
   "pygments_lexer": "ipython3",
   "version": "3.9.7"
  }
 },
 "nbformat": 4,
 "nbformat_minor": 5
}
