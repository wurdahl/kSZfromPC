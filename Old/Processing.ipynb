{
 "cells": [
  {
   "cell_type": "code",
   "execution_count": 1,
   "metadata": {},
   "outputs": [],
   "source": [
    "import struct\n",
    "import numpy as np\n",
    "import os"
   ]
  },
  {
   "cell_type": "code",
   "execution_count": 2,
   "metadata": {},
   "outputs": [],
   "source": [
    "import matplotlib.pyplot as plt\n",
    "import healpy as hp\n",
    "nside = 32\n",
    "npix = hp.nside2npix(nside)\n",
    "\n",
    "%matplotlib inline"
   ]
  },
  {
   "cell_type": "code",
   "execution_count": 3,
   "metadata": {},
   "outputs": [],
   "source": [
    "def convertToSpherical(xyz):\n",
    "    # col 0: r, col 1: theta, col 2: phi\n",
    "    sphericalPositons = np.zeros((len(xyz),3))\n",
    "    xySquared = xyz[:,0]**2 + xyz[:,1]**2\n",
    "    # r\n",
    "    sphericalPositons[:,0] = np.sqrt(xySquared+xyz[:,2]**2)\n",
    "    # theta - many options for this calc\n",
    "    sphericalPositons[:,1] = np.arctan2(np.sqrt(xySquared), xyz[:,2])\n",
    "    # phi\n",
    "    sphericalPositons[:,2] = np.arctan2(xyz[:,1],xyz[:,0])\n",
    "    return sphericalPositons"
   ]
  },
  {
   "cell_type": "code",
   "execution_count": 4,
   "metadata": {},
   "outputs": [],
   "source": [
    "# Reading lp-cola unformatted files\n",
    "def unf_read_file(file, p_list=[], np=6):\n",
    "    with open(file, mode='rb') as f:\n",
    "        tot_n = 0\n",
    "        cnt = 0\n",
    "        while (True):\n",
    "            cnt += 1\n",
    "            r = f.read(4)\n",
    "            if not r: break\n",
    "            a1 = struct.unpack('i', r)\n",
    "            r = f.read(a1[0])\n",
    "            n = struct.unpack('i', r)\n",
    "            r = f.read(8)\n",
    "            a, b = struct.unpack('2i', r)\n",
    "            r = f.read(b)\n",
    "            p_list.extend(struct.unpack(str(n[0] * np) + 'f', r))\n",
    "            r = f.read(4)\n",
    "            tot_n += n[0]\n",
    "    f.close()\n",
    "    return tot_n"
   ]
  },
  {
   "cell_type": "code",
   "execution_count": null,
   "metadata": {},
   "outputs": [
    {
     "name": "stdout",
     "output_type": "stream",
     "text": [
      "0\n",
      "10\n",
      "20\n",
      "30\n",
      "40\n",
      "50\n",
      "60\n",
      "70\n",
      "80\n",
      "90\n",
      "100\n",
      "110\n",
      "120\n",
      "130\n",
      "140\n",
      "150\n",
      "160\n",
      "170\n",
      "180\n",
      "190\n",
      "200\n",
      "210\n",
      "220\n",
      "230\n",
      "240\n",
      "250\n"
     ]
    }
   ],
   "source": [
    "tempArray = []\n",
    "for i in range(0,1395):\n",
    "    path = \"Data/cone_test_lightcone.\"+str(i)\n",
    "    if os.path.isfile(path):\n",
    "        unf_read_file(path, p_list=tempArray)\n",
    "        \n",
    "        positionFormatted = np.reshape(tempArray,(-1,6))[:,0:3]\n",
    "        sphereCoord = convertToSpherical(positionFormatted)\n",
    "        \n",
    "        pixIndicies = hp.ang2pix(nside,sphereCoord[:,1],sphereCoord[:,2])\n",
    "        \n",
    "        if not i:\n",
    "            numcount = np.bincount(pixIndicies, minlength=npix)\n",
    "        else:\n",
    "            numcount = np.add(numcount, np.bincount(pixIndicies, minlength=npix) )\n",
    "        if (i%10==0): \n",
    "            print(i)"
   ]
  },
  {
   "cell_type": "code",
   "execution_count": null,
   "metadata": {},
   "outputs": [],
   "source": [
    "hp.mollview(numcount,xsize=1600)"
   ]
  },
  {
   "cell_type": "code",
   "execution_count": null,
   "metadata": {},
   "outputs": [],
   "source": []
  }
 ],
 "metadata": {
  "kernelspec": {
   "display_name": "Python 3",
   "language": "python",
   "name": "python3"
  },
  "language_info": {
   "codemirror_mode": {
    "name": "ipython",
    "version": 3
   },
   "file_extension": ".py",
   "mimetype": "text/x-python",
   "name": "python",
   "nbconvert_exporter": "python",
   "pygments_lexer": "ipython3",
   "version": "3.8.10"
  }
 },
 "nbformat": 4,
 "nbformat_minor": 4
}
