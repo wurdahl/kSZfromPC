{
 "cells": [
  {
   "cell_type": "code",
   "execution_count": 1,
   "metadata": {},
   "outputs": [],
   "source": [
    "import camb\n",
    "import pywigxjpf as pywig\n",
    "from joblib import Parallel, delayed\n",
    "import sys, argparse, multiprocessing\n",
    "#from common import *\n",
    "from scipy.signal import savgol_filter"
   ]
  },
  {
   "cell_type": "code",
   "execution_count": 2,
   "metadata": {},
   "outputs": [],
   "source": [
    "import numpy as np\n",
    "import healpy as hp\n",
    "import matplotlib\n",
    "import matplotlib.pyplot as plt\n",
    "import os"
   ]
  },
  {
   "cell_type": "code",
   "execution_count": 3,
   "metadata": {},
   "outputs": [],
   "source": [
    "nside = 2560"
   ]
  },
  {
   "cell_type": "code",
   "execution_count": 4,
   "metadata": {},
   "outputs": [
    {
     "name": "stdout",
     "output_type": "stream",
     "text": [
      "  Creating pywig tables...\n"
     ]
    }
   ],
   "source": [
    "print(\"  Creating pywig tables...\")\n",
    "NSIDE_MAX = 4096\n",
    "pywig.wig_table_init(3*nside, 3)\n",
    "pywig.wig_temp_init(3*nside)"
   ]
  },
  {
   "cell_type": "code",
   "execution_count": 5,
   "metadata": {},
   "outputs": [],
   "source": [
    "L_RECONST_MAX = 50"
   ]
  },
  {
   "cell_type": "code",
   "execution_count": 6,
   "metadata": {},
   "outputs": [],
   "source": [
    "def GammakSZ(l1, l2, l, Cltd) :\n",
    "    pref = np.sqrt((2.0*l1+1)*(2.0*l2+1)*(2.0*l+1)/4.0/np.pi)\n",
    "    wig = pywig.wig3jj(2*l1, 2*l2, 2*l, 0, 0, 0) # 2*[j1,j2,j3,m1,m2,m3]\n",
    "    return pref*wig*Cltd[l2]\n",
    "\n",
    "def getNinv(l, ls, Cltd, ClTT, Cldd) :\n",
    "    Ninv = 0.0\n",
    "    if l < L_RECONST_MAX+1 :\n",
    "        print(\"Working on l =\", l)\n",
    "        for l1 in ls: # TODO: don't include monopole, dipole contributions?\n",
    "            for l2 in ls:\n",
    "                Ninv += GammakSZ(l1, l2, l, Cltd)**2 / ClTT[l1] / Cldd[l2]\n",
    "        Ninv /= (2.0*l + 1.0)\n",
    "    else :\n",
    "        Ninv = 1.0e50 # N = 1.0e-50\n",
    "    return Ninv"
   ]
  },
  {
   "cell_type": "code",
   "execution_count": 7,
   "metadata": {},
   "outputs": [
    {
     "name": "stderr",
     "output_type": "stream",
     "text": [
      "<ipython-input-7-d860381747c2>:10: RuntimeWarning: invalid value encountered in true_divide\n",
      "  CMB_camb = powers['total'][:,0]/cambFactor\n"
     ]
    }
   ],
   "source": [
    "h=0.69\n",
    "pars = camb.CAMBparams()\n",
    "pars.set_cosmology(H0=100.0*h, ombh2=0.048*h**2, omch2=0.262*h**2, mnu=0.06, omk=0)\n",
    "pars.InitPower.set_params(As=2e-9, ns=0.96, r=0)\n",
    "pars.set_for_lmax(6144, lens_potential_accuracy=0)\n",
    "results = camb.get_results(pars)\n",
    "powers =results.get_cmb_power_spectra(pars, CMB_unit='K')\n",
    "l=np.arange(0,len(powers['total'][:,0]))\n",
    "cambFactor = l*(l+1)/(2*np.pi)\n",
    "CMB_camb = powers['total'][:,0]/cambFactor\n",
    "CMB_camb[0]=0.0"
   ]
  },
  {
   "cell_type": "code",
   "execution_count": 8,
   "metadata": {},
   "outputs": [],
   "source": [
    "kSZ = np.load('./kSZ_NS_2560_R_2968_P_2048_DV_256_Sd_945986.npy')\n",
    "overdensity = np.load('./overdensity_NS_2560_R_2968_P_2048_DV_256_Sd_945986.npy')\n",
    "VelocityField = np.load('./VelocityField_NS_2560_R_2968_P_2048_DV_256_Sd_945986.npy')"
   ]
  },
  {
   "cell_type": "code",
   "execution_count": null,
   "metadata": {},
   "outputs": [
    {
     "name": "stdout",
     "output_type": "stream",
     "text": [
      "Scaling factor\n",
      "Computing noise.\n"
     ]
    }
   ],
   "source": [
    "rho_map = overdensity\n",
    "\n",
    "ksz_PS = hp.anafast(kSZ)\n",
    "\n",
    "CMB_map = hp.sphtfunc.synfast(CMB_camb,nside=nside);\n",
    "    \n",
    "Obs_T_map = kSZ + CMB_map\n",
    "\n",
    "ClTT = hp.anafast(Obs_T_map)\n",
    "ClTT_filtered = np.concatenate(([1.0], savgol_filter(ClTT[1:], 51, 3)))\n",
    "Cldd = hp.anafast(rho_map)\n",
    "Cltd = hp.anafast(rho_map, map2=-rho_map)\n",
    "ls = np.arange(ClTT.size)\n",
    "    \n",
    "dTlm = hp.map2alm(Obs_T_map)\n",
    "dlm = hp.map2alm(rho_map)\n",
    "\n",
    "dTlm_resc = hp.almxfl(dTlm, 1.0/ClTT)\n",
    "dT_resc = hp.alm2map(dTlm_resc, nside)\n",
    "dlm = -1.0*dlm # dlm_resc = hp.almxfl(dlm, 1.0) #Cltd/Cldd\n",
    "d_resc = hp.alm2map(dlm, nside)\n",
    "\n",
    "#figuring out scaling factor\n",
    "print(\"Scaling factor\")\n",
    "#Compute noise (expensive, need to optimize?)\n",
    "print(\"Computing noise.\")\n",
    "ncores = multiprocessing.cpu_count()\n",
    "#Ninv = [ getNinv(l, ls, Cltd, ClTT, Cldd) for l in ls ]\n",
    "Ninv = Parallel(n_jobs=ncores)(delayed(getNinv)(l, ls, Cltd, ClTT, Cldd) for l in ls)\n",
    "N = 1.0/np.array(Ninv)\n",
    "#N = np.zeros_like(ls, dtype=np.int)\n",
    "#N[:100] = 1.0\n",
    "    \n",
    "unnorm_veff_reconstlm = hp.map2alm(dT_resc*d_resc)\n",
    "unnorm_veff_reconst_ps = hp.alm2cl(unnorm_veff_reconstlm)\n",
    "unnorm_veff_reconst = hp.alm2map(unnorm_veff_reconstlm, nside)\n",
    "    \n"
   ]
  },
  {
   "cell_type": "code",
   "execution_count": null,
   "metadata": {},
   "outputs": [],
   "source": []
  },
  {
   "cell_type": "code",
   "execution_count": null,
   "metadata": {},
   "outputs": [],
   "source": []
  }
 ],
 "metadata": {
  "kernelspec": {
   "display_name": "Python 3",
   "language": "python",
   "name": "python3"
  },
  "language_info": {
   "codemirror_mode": {
    "name": "ipython",
    "version": 3
   },
   "file_extension": ".py",
   "mimetype": "text/x-python",
   "name": "python",
   "nbconvert_exporter": "python",
   "pygments_lexer": "ipython3",
   "version": "3.8.10"
  }
 },
 "nbformat": 4,
 "nbformat_minor": 4
}
