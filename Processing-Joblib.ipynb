{
 "cells": [
  {
   "cell_type": "code",
   "execution_count": 1,
   "metadata": {},
   "outputs": [],
   "source": [
    "import struct\n",
    "import numpy as np\n",
    "import os\n",
    "from joblib import Parallel, delayed"
   ]
  },
  {
   "cell_type": "code",
   "execution_count": 2,
   "metadata": {},
   "outputs": [],
   "source": [
    "import matplotlib.pyplot as plt\n",
    "import healpy as hp\n",
    "nside = 128\n",
    "npix = hp.nside2npix(nside)\n",
    "\n",
    "#%matplotlib inline"
   ]
  },
  {
   "cell_type": "code",
   "execution_count": 3,
   "metadata": {},
   "outputs": [],
   "source": [
    "rangeOfInterest=512 #only look at particles within this\n",
    "radialDivs = 8\n",
    "ROIs = np.linspace(0,rangeOfInterest, radialDivs+1)\n",
    "\n",
    "boxSize=1024 # side length of box\n",
    "particleSize=128 #the total number of particles is n**3\n",
    "\n",
    "num_Files = 32\n",
    "\n",
    "run_Ident = \"_NS_\"+str(nside)+\"_R_\"+str(rangeOfInterest)+\"_P_\"+str(particleSize)"
   ]
  },
  {
   "cell_type": "code",
   "execution_count": 4,
   "metadata": {},
   "outputs": [],
   "source": [
    "def getRadialUnitVecs(spherePos):\n",
    "    unitVecs = np.zeros((len(spherePos),3))\n",
    "    \n",
    "    #negative because you want it pointing towards the origin    \n",
    "    unitVecs[:,0] = np.multiply(np.cos(spherePos[:,2]),np.sin(spherePos[:,1]))\n",
    "    unitVecs[:,1] = np.multiply(np.sin(spherePos[:,2]),np.sin(spherePos[:,1]))\n",
    "    unitVecs[:,2] = np.cos(spherePos[:,1])\n",
    "    \n",
    "    return unitVecs"
   ]
  },
  {
   "cell_type": "code",
   "execution_count": 5,
   "metadata": {},
   "outputs": [],
   "source": [
    "# code for determinig angular diameter distance from comving distance\n",
    "\n",
    "from classy import Class\n",
    "from scipy.interpolate import interp1d\n",
    "\n",
    "LambdaCDM = Class()\n",
    "\n",
    "LambdaCDM.set({ 'omega_b':0.022032 , 'omega_cdm' :0.12038 , 'h':0.67556 , 'A_s':2.215e-9 , 'n_s' :0.9619 , 'tau_reio' :0.0925})\n",
    "\n",
    "LambdaCDM.set({ 'output' :'tCl,pCl,lCl,mPk','lensing' :'yes' ,'P_k_max_1/Mpc': 3.0})\n",
    "\n",
    "LambdaCDM.compute()\n",
    "\n",
    "comovDist = LambdaCDM.get_background()['comov. dist.']\n",
    "angDiaDist = LambdaCDM.get_background()['ang.diam.dist.']\n",
    "redshifts = LambdaCDM.get_background()['z']\n",
    "\n",
    "getAngDiaDist = interp1d(comovDist,angDiaDist)\n",
    "getRedshift = interp1d(comovDist, redshifts)\n",
    "\n",
    "def getScalingFactor(comov_dist):\n",
    "    return 1/(1+getRedshift(comov_dist))"
   ]
  },
  {
   "cell_type": "code",
   "execution_count": 6,
   "metadata": {},
   "outputs": [],
   "source": [
    "def convertToSpherical(xyz):\n",
    "    #variables\n",
    "    sphericalConversion = np.zeros((len(xyz),4))\n",
    "    vel = np.zeros((len(xyz),3))\n",
    "    \n",
    "    # col 0: r, col 1: theta, col 2: phi\n",
    "    \n",
    "    xySquared = xyz[:,0]**2 + xyz[:,1]**2\n",
    "    # r\n",
    "    sphericalConversion[:,0] = np.sqrt(xySquared+xyz[:,2]**2)\n",
    "    # theta - many options for this calc\n",
    "    \n",
    "    sphericalConversion[:,1] = np.arctan2(np.sqrt(xySquared), xyz[:,2])\n",
    "    \n",
    "    # phi\n",
    "    sphericalConversion[:,2] = np.arctan2(xyz[:,1],xyz[:,0])\n",
    "    \n",
    "    #convert velocity to radial velocity over radius^2\n",
    "    \n",
    "    angularDiameterDistanceSquared = np.power(getAngDiaDist(sphericalConversion[:,0]),2)\n",
    "        \n",
    "    vel[:,0] = xyz[:,3]/angularDiameterDistanceSquared\n",
    "    vel[:,1] = xyz[:,4]/angularDiameterDistanceSquared\n",
    "    vel[:,2] = xyz[:,5]/angularDiameterDistanceSquared\n",
    "    \n",
    "    unitVectors = getRadialUnitVecs(sphericalConversion)\n",
    "    \n",
    "    #get the radial \n",
    "    for i in range(len(xyz)):\n",
    "        sphericalConversion[i,3] = np.dot(vel[i],unitVectors[i])\n",
    "    \n",
    "    return sphericalConversion"
   ]
  },
  {
   "cell_type": "code",
   "execution_count": 7,
   "metadata": {},
   "outputs": [],
   "source": [
    "# Reading lp-cola unformatted files\n",
    "def unf_read_file(file, p_list=[], np=6):\n",
    "    with open(file, mode='rb') as f:\n",
    "        tot_n = 0\n",
    "        cnt = 0\n",
    "        while (True):\n",
    "            cnt += 1\n",
    "            r = f.read(4)\n",
    "            if not r: break\n",
    "            a1 = struct.unpack('i', r)\n",
    "            r = f.read(a1[0])\n",
    "            n = struct.unpack('i', r)\n",
    "            r = f.read(8)\n",
    "            a, b = struct.unpack('2i', r)\n",
    "            r = f.read(b)\n",
    "            p_list.extend(struct.unpack(str(n[0] * np) + 'f', r))\n",
    "            r = f.read(4)\n",
    "            tot_n += n[0]\n",
    "    f.close()\n",
    "    return tot_n"
   ]
  },
  {
   "cell_type": "code",
   "execution_count": 8,
   "metadata": {},
   "outputs": [],
   "source": [
    "def readSetToBins(startFile, stopFile, index):\n",
    "    tempArray = []\n",
    "    numcount = [None]*radialDivs\n",
    "    totalVelThread = np.zeros((radialDivs,npix))\n",
    "    for i in range(startFile,stopFile):\n",
    "        path = \"Data/cone_test_lightcone.\"+str(i)\n",
    "        if os.path.isfile(path):\n",
    "            unf_read_file(path, p_list=tempArray)\n",
    "\n",
    "            reshaped = np.reshape(tempArray,(-1,6))\n",
    "            tempArray = []\n",
    "                                 \n",
    "            offset = np.append((boxSize/2)*np.ones((np.shape(reshaped)[0],3)),np.zeros((np.shape(reshaped)[0],3)),axis=1)\n",
    "            \n",
    "            reshaped = np.subtract(reshaped,offset)\n",
    "            \n",
    "            sphereConversion = convertToSpherical(reshaped)\n",
    "            \n",
    "            reshaped = []\n",
    "            \n",
    "            #bin points into the correct bins (radial, theta, phi bins)\n",
    "            \n",
    "            for j in range(radialDivs):\n",
    "                #select all the point in each radial range\n",
    "                radialRange = sphereConversion[(sphereConversion[:,0]>ROIs[j]) & (sphereConversion[:,0]<ROIs[j+1])]\n",
    "                \n",
    "                #determine how many points are in each bin\n",
    "                pixIndicies = hp.ang2pix(nside,radialRange[:,1],radialRange[:,2])\n",
    "                \n",
    "                if numcount[j]==None:\n",
    "                    numcount[j] = np.bincount(pixIndicies, minlength=npix)\n",
    "                else:\n",
    "                    numcount[j] = np.add(numcount, np.bincount(pixIndicies, minlength=npix))\n",
    "                \n",
    "                #do the math for the SZ effect\n",
    "            \n",
    "                #sum all velocities in each bin together\n",
    "                if(len(pixIndicies)>0):\n",
    "                    for k in np.unique(pixIndicies):\n",
    "                        velInBin = radialRange[pixIndicies==k][:,3]\n",
    "                        totalVelThread[j,k] = np.sum(velInBin,axis=0)\n",
    "            \n",
    "            \n",
    "            print(str(i)+\" done\")\n",
    "                \n",
    "        return [numcount, totalVelThread]"
   ]
  },
  {
   "cell_type": "code",
   "execution_count": 9,
   "metadata": {},
   "outputs": [
    {
     "name": "stdout",
     "output_type": "stream",
     "text": [
      "Read all Files\n"
     ]
    }
   ],
   "source": [
    "numProcess = 32\n",
    "ranges = np.linspace(0,num_Files,numProcess+1).astype(int)\n",
    "\n",
    "returnValues = Parallel(n_jobs=-1)(delayed(readSetToBins)(ranges[i],ranges[i+1], i) for i in range(0,numProcess))\n",
    "\n",
    "print(\"Read all Files\")"
   ]
  },
  {
   "cell_type": "code",
   "execution_count": 10,
   "metadata": {},
   "outputs": [],
   "source": [
    "#structure of returnValues is weird\n",
    "#the first length is 32 corresponding to each process\n",
    "#the second length is 2 corresponding to the two arrays that were returned from each process: numcount, totalVelThread\n",
    "#the third length is number of radial divs\n",
    "#the fourth length corresponds to the number of pixels in each projection\n",
    "\n",
    "#combine the returns from each processor by summing the first axis\n",
    "\n",
    "outputCount = np.sum(np.array(returnValues)[0:numProcess,0],axis=0)\n",
    "outputkSZ = np.sum(np.array(returnValues)[0:numProcess,1],axis=0)"
   ]
  },
  {
   "cell_type": "code",
   "execution_count": 11,
   "metadata": {},
   "outputs": [
    {
     "name": "stdout",
     "output_type": "stream",
     "text": [
      "1091664.0\n"
     ]
    }
   ],
   "source": [
    "#combine the different radial divs for viewing\n",
    "numcount = np.sum(outputCount,axis=0)\n",
    "print(sum(numcount))\n",
    "\n",
    "n_bar = np.average(numcount)\n",
    "overdensity = (numcount-n_bar)/n_bar\n",
    "\n",
    "#hp.mollview(numcount,xsize=3200, max=1000)"
   ]
  },
  {
   "cell_type": "code",
   "execution_count": 12,
   "metadata": {},
   "outputs": [
    {
     "name": "stderr",
     "output_type": "stream",
     "text": [
      "setting the output map dtype to [dtype('float64')]\n"
     ]
    }
   ],
   "source": [
    "#hp.mollview(overdensity,xsize=3200,max=5)\n",
    "hp.fitsfunc.write_map(\"MAPS/overdensity\"+run_Ident+\".fits\", overdensity, overwrite=True)"
   ]
  },
  {
   "cell_type": "code",
   "execution_count": 13,
   "metadata": {},
   "outputs": [],
   "source": [
    "almostkSZ = np.sum(outputkSZ,axis=0)\n",
    "#hp.mollview(almostkSZ,xsize=3200,min=-30,max=30)"
   ]
  },
  {
   "cell_type": "code",
   "execution_count": 14,
   "metadata": {},
   "outputs": [],
   "source": [
    "#plt.hist(almostkSZ,bins=np.linspace(-30,30));"
   ]
  },
  {
   "cell_type": "code",
   "execution_count": 15,
   "metadata": {},
   "outputs": [
    {
     "name": "stderr",
     "output_type": "stream",
     "text": [
      "setting the output map dtype to [dtype('float64')]\n"
     ]
    }
   ],
   "source": [
    "OmegaB = 0.048\n",
    "OmegaM = 0.31\n",
    "fb = OmegaB/OmegaM\n",
    "\n",
    "h = 0.69\n",
    "H = (3.2407789/h)*10**-18\n",
    "G = 6.674*10**-8\n",
    "unitLength = 3.085678*10**24 #cm/h - This is one megaparsec\n",
    "#unitMass = 1.989*10**43 #g\n",
    "unitMass = (3.0*OmegaM*H*H*(boxSize*unitLength)**3)/(8.0*3.14*G*(particleSize**3))\n",
    "unitVelocity = 10**5 #cm/s\n",
    "\n",
    "c=2.99792458*10**10\n",
    "\n",
    "YHe=0.2477\n",
    "mH=1.6735575*(10**-24) #g\n",
    "mHe=6.464731*(10**-24) #g\n",
    "mu = (1-YHe)/mH+YHe/mHe\n",
    "\n",
    "sigmaT = 6.6524*(10**-25) #cm^2\n",
    "\n",
    "#convert l-picola units to SI units\n",
    "correctUnits = almostkSZ*(unitMass*unitVelocity/unitLength**2)\n",
    "#summation is now in (g/s)\n",
    "\n",
    "almosterkSZ = -(sigmaT*fb*mu)*(correctUnits/(c*hp.nside2resol(nside)**2))\n",
    "#hp.mollview(almosterkSZ,xsize=3200,min=-2*10**-6,max=2*10**-6)\n",
    "hp.fitsfunc.write_map(\"MAPS/kSZ\"+run_Ident+\".fits\", almosterkSZ, overwrite=True)"
   ]
  },
  {
   "cell_type": "code",
   "execution_count": 16,
   "metadata": {},
   "outputs": [],
   "source": [
    "#plt.hist(almosterkSZ,bins=np.linspace(-2*10**-6,2*10**-6));"
   ]
  },
  {
   "cell_type": "code",
   "execution_count": 17,
   "metadata": {},
   "outputs": [],
   "source": [
    "#Now we determine the convergence maps\n",
    "\n",
    "def getConvergenceForPixel(pixelIndex):\n",
    "\n",
    "    dr = rangeOfInterest/radialDivs\n",
    "\n",
    "    convergencePixels = np.zeros(radialDivs)\n",
    "\n",
    "    #for each layer of the kSZ determine the accumalted convergence\n",
    "    for kSZLayer in range(0,radialDivs):\n",
    "        #add up the convergence contribution of every intervening layer from 0 up to the current kSZ layer\n",
    "        for lensingLayer in range(0,kSZLayer):\n",
    "            kSZDist = (kSZLayer+0.5)*(dr)\n",
    "            lensingLayerDist = (lensingLayer+0.5)*(dr)\n",
    "        \n",
    "            convergencePixels[kSZLayer] = convergencePixels[kSZLayer] + outputCount[lensingLayer,pixelIndex]*(1/(lensingLayerDist*getScalingFactor(lensingLayerDist)))*(kSZDist-lensingLayerDist)/kSZDist\n",
    "            #simplification:\n",
    "            #convergencePixels[kSZLayer] = convergencePixels[kSZLayer] + outputCount[lensingLayer,pixelIndex]*(1/(dr*getScalingFactor(lensingLayerDist)))*(kSZLayer-lensingLayer)/((0.5+kSZLayer)*(0.5+lensingLayer))\n",
    "    return convergencePixels\n",
    "\n",
    "def getConvergenceForRange(start, finish):\n",
    "    convergences = np.zeros((finish-start,radialDivs))\n",
    "    for pixel in range(start, finish):\n",
    "        convergences[pixel-start] = getConvergenceForPixel(pixel)\n",
    "    return convergences"
   ]
  },
  {
   "cell_type": "code",
   "execution_count": 18,
   "metadata": {},
   "outputs": [
    {
     "name": "stdout",
     "output_type": "stream",
     "text": [
      "Starting to Calculate Convergences\n",
      "Calculated Convergences\n"
     ]
    }
   ],
   "source": [
    "npix = hp.nside2npix(nside)\n",
    "\n",
    "numProcess = 64\n",
    "\n",
    "pixelSteps = np.linspace(0,npix,numProcess+1).astype(int)\n",
    "\n",
    "print(\"Starting to Calculate Convergences\")\n",
    "\n",
    "convergenceReturn = Parallel(n_jobs=-1)(delayed(getConvergenceForRange)(pixelSteps[i],pixelSteps[i+1]) for i in range(0,numProcess))\n",
    "\n",
    "print(\"Calculated Convergences\")\n",
    "\n",
    "#to each pixel:\n",
    "#convergenceReturn = Parallel(n_jobs=npix)(delayed(getConvergenceForPixel)(pixel) for pixel in range(0,npix))"
   ]
  },
  {
   "cell_type": "code",
   "execution_count": 19,
   "metadata": {},
   "outputs": [],
   "source": [
    "#to not get a ragged array, npix must be divisible by numProcess\n",
    "convergenceMaps = np.transpose(np.array(convergenceReturn).reshape((npix,radialDivs)))"
   ]
  },
  {
   "cell_type": "code",
   "execution_count": 20,
   "metadata": {},
   "outputs": [],
   "source": [
    "H0Squared = 1\n",
    "\n",
    "prefactors = (3/2)*H0Squared*OmegaM\n",
    "\n",
    "convergenceMaps = prefactors*convergenceMaps"
   ]
  },
  {
   "cell_type": "code",
   "execution_count": 21,
   "metadata": {},
   "outputs": [
    {
     "name": "stderr",
     "output_type": "stream",
     "text": [
      "setting the output map dtype to [dtype('float64')]\n"
     ]
    }
   ],
   "source": [
    "#hp.mollview(np.sum(convergenceMaps,axis=0))\n",
    "hp.fitsfunc.write_map(\"MAPS/convergence\"+run_Ident+\".fits\", np.sum(convergenceMaps,axis=0), overwrite=True)"
   ]
  },
  {
   "cell_type": "code",
   "execution_count": null,
   "metadata": {},
   "outputs": [],
   "source": []
  }
 ],
 "metadata": {
  "kernelspec": {
   "display_name": "Python 3",
   "language": "python",
   "name": "python3"
  },
  "language_info": {
   "codemirror_mode": {
    "name": "ipython",
    "version": 3
   },
   "file_extension": ".py",
   "mimetype": "text/x-python",
   "name": "python",
   "nbconvert_exporter": "python",
   "pygments_lexer": "ipython3",
   "version": "3.8.10"
  }
 },
 "nbformat": 4,
 "nbformat_minor": 4
}
