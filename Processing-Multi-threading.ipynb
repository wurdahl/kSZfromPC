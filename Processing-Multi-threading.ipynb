{
 "cells": [
  {
   "cell_type": "code",
   "execution_count": 1,
   "metadata": {},
   "outputs": [],
   "source": [
    "import struct\n",
    "import numpy as np\n",
    "import os\n",
    "import multiprocessing as mp"
   ]
  },
  {
   "cell_type": "code",
   "execution_count": 2,
   "metadata": {},
   "outputs": [],
   "source": [
    "import matplotlib.pyplot as plt\n",
    "import healpy as hp\n",
    "nside = 128\n",
    "npix = hp.nside2npix(nside)\n",
    "\n",
    "%matplotlib inline"
   ]
  },
  {
   "cell_type": "code",
   "execution_count": 3,
   "metadata": {},
   "outputs": [],
   "source": [
    "def getRadialUnitVecs(spherePos):\n",
    "    unitVecs = np.zeros((len(spherePos),3))\n",
    "    \n",
    "    #negative because you want it pointing towards the origin    \n",
    "    unitVecs[:,0] = -np.multiply(np.cos(spherePos[:,2]),np.sin(spherePos[:,1]))\n",
    "    unitVecs[:,1] = -np.multiply(np.sin(spherePos[:,2]),np.sin(spherePos[:,1]))\n",
    "    unitVecs[:,2] = -np.cos(spherePos[:,1])\n",
    "    \n",
    "    return unitVecs"
   ]
  },
  {
   "cell_type": "code",
   "execution_count": 4,
   "metadata": {},
   "outputs": [],
   "source": [
    "def getScalingFactorSquared(radius):\n",
    "    a= -0.01*radius+1\n",
    "    return np.power(a,2)"
   ]
  },
  {
   "cell_type": "code",
   "execution_count": 5,
   "metadata": {},
   "outputs": [],
   "source": [
    "def getScalingFactor(radius):\n",
    "    return -0.01*radius+1"
   ]
  },
  {
   "cell_type": "code",
   "execution_count": 6,
   "metadata": {},
   "outputs": [],
   "source": [
    "def convertToSpherical(xyz):\n",
    "    #variables\n",
    "    sphericalConversion = np.zeros((len(xyz),4))\n",
    "    vel = np.zeros((len(xyz),3))\n",
    "    \n",
    "    # col 0: r, col 1: theta, col 2: phi\n",
    "    \n",
    "    xySquared = xyz[:,0]**2 + xyz[:,1]**2\n",
    "    # r\n",
    "    sphericalConversion[:,0] = np.sqrt(xySquared+xyz[:,2]**2)\n",
    "    # theta - many options for this calc\n",
    "    \n",
    "    sphericalConversion[:,1] = np.arctan2(np.sqrt(xySquared), xyz[:,2])\n",
    "    \n",
    "    # phi\n",
    "    sphericalConversion[:,2] = np.arctan2(xyz[:,1],xyz[:,0])\n",
    "    \n",
    "    #convert velocity to radial velocity over radius^2\n",
    "    \n",
    "    vel[:,0] = xyz[:,3]/(np.multiply(getScalingFactor(sphericalConversion[:,0]),np.power(sphericalConversion[:,0],2)))\n",
    "    vel[:,1] = xyz[:,4]/(np.multiply(getScalingFactor(sphericalConversion[:,0]),np.power(sphericalConversion[:,0],2)))\n",
    "    vel[:,2] = xyz[:,5]/(np.multiply(getScalingFactor(sphericalConversion[:,0]),np.power(sphericalConversion[:,0],2)))\n",
    "    \n",
    "    unitVectors = getRadialUnitVecs(sphericalConversion)\n",
    "    \n",
    "    #get the radial \n",
    "    for i in range(len(xyz)):\n",
    "        sphericalConversion[i,3] = np.dot(vel[i],unitVectors[i])\n",
    "    \n",
    "    return sphericalConversion"
   ]
  },
  {
   "cell_type": "code",
   "execution_count": 7,
   "metadata": {},
   "outputs": [],
   "source": [
    "# Reading lp-cola unformatted files\n",
    "def unf_read_file(file, p_list=[], np=6):\n",
    "    with open(file, mode='rb') as f:\n",
    "        tot_n = 0\n",
    "        cnt = 0\n",
    "        while (True):\n",
    "            cnt += 1\n",
    "            r = f.read(4)\n",
    "            if not r: break\n",
    "            a1 = struct.unpack('i', r)\n",
    "            r = f.read(a1[0])\n",
    "            n = struct.unpack('i', r)\n",
    "            r = f.read(8)\n",
    "            a, b = struct.unpack('2i', r)\n",
    "            r = f.read(b)\n",
    "            p_list.extend(struct.unpack(str(n[0] * np) + 'f', r))\n",
    "            r = f.read(4)\n",
    "            tot_n += n[0]\n",
    "    f.close()\n",
    "    return tot_n"
   ]
  },
  {
   "cell_type": "code",
   "execution_count": 8,
   "metadata": {},
   "outputs": [],
   "source": [
    "def readSetToBins(startFile, stopFile, index):\n",
    "    tempArray = []\n",
    "    numcount = []\n",
    "    totalVelThread = np.zeros(npix)\n",
    "    for i in range(startFile,stopFile):\n",
    "        path = \"Data/cone_test_lightcone.\"+str(i)\n",
    "        if os.path.isfile(path):\n",
    "            unf_read_file(path, p_list=tempArray)\n",
    "\n",
    "            reshaped = np.reshape(tempArray,(-1,6))\n",
    "            tempArray = []\n",
    "                                 \n",
    "            offset = np.append(64*np.ones((np.shape(reshaped)[0],3)),np.zeros((np.shape(reshaped)[0],3)),axis=1)\n",
    "            \n",
    "            reshaped = np.subtract(reshaped,offset)\n",
    "            \n",
    "            sphereConversion = convertToSpherical(reshaped)\n",
    "            \n",
    "            reshaped = []\n",
    "            \n",
    "            #only take points within a certain radius\n",
    "            sphereConversion = sphereConversion[sphereConversion[:,0]<30]\n",
    "\n",
    "            #determine how many points are in each bin\n",
    "            pixIndicies = hp.ang2pix(nside,sphereConversion[:,1],sphereConversion[:,2])\n",
    "\n",
    "            if len(numcount)==0:\n",
    "                numcount = np.bincount(pixIndicies, minlength=npix)\n",
    "            else:\n",
    "                numcount = np.add(numcount, np.bincount(pixIndicies, minlength=npix) )\n",
    "                \n",
    "            #do the math for the SZ effect\n",
    "            \n",
    "            #sum all velocities in each bin together\n",
    "            if(len(pixIndicies)>0):\n",
    "                for j in range(np.amin(pixIndicies),np.amax(pixIndicies)+1):\n",
    "                    velInBin = sphereConversion[pixIndicies==j][:,3]\n",
    "                    totalVelThread[j] = np.sum(velInBin,axis=0)\n",
    "            \n",
    "            if i%10==0:\n",
    "                print(i)\n",
    "        \n",
    "        #set global variable to output for return\n",
    "        outputCount.put(numcount)\n",
    "        outputSZ.put(totalVelThread)"
   ]
  },
  {
   "cell_type": "code",
   "execution_count": null,
   "metadata": {},
   "outputs": [
    {
     "name": "stdout",
     "output_type": "stream",
     "text": [
      "Reading files from 0 to 1\n",
      "Reading files from 1 to 2\n",
      "Reading files from 2 to 3\n",
      "Reading files from 3 to 4\n",
      "Reading files from 4 to 5\n",
      "Reading files from 5 to 6\n",
      "Reading files from 6 to 7\n",
      "Reading files from 7 to 8\n",
      "Reading files from 8 to 9\n",
      "Reading files from 9 to 10\n",
      "Reading files from 10 to 11\n",
      "Reading files from 11 to 12\n",
      "Reading files from 12 to 13\n",
      "Reading files from 13 to 14\n",
      "Reading files from 14 to 15\n",
      "Reading files from 15 to 16\n",
      "Reading files from 16 to 17\n",
      "Reading files from 17 to 18\n",
      "Reading files from 18 to 19\n",
      "Reading files from 19 to 20\n",
      "Reading files from 20 to 21\n",
      "Reading files from 21 to 22\n",
      "Reading files from 22 to 23\n",
      "Reading files from 23 to 24\n",
      "Reading files from 24 to 25\n",
      "Reading files from 25 to 26\n",
      "Reading files from 26 to 27\n",
      "Reading files from 27 to 28\n",
      "Reading files from 28 to 29\n",
      "Reading files from 29 to 30\n",
      "Reading files from 30 to 31\n",
      "Reading files from 31 to 32\n",
      "0Done\n",
      "0\n",
      "30\n",
      "10\n",
      "20\n"
     ]
    }
   ],
   "source": [
    "numProcess = 32\n",
    "ranges = np.linspace(0,32,numProcess+1).astype(int)\n",
    "outputCount = mp.Queue()\n",
    "outputSZ = mp.Queue()\n",
    "\n",
    "processes = [None]*numProcess\n",
    "\n",
    "for i in range(0,numProcess):\n",
    "    print(\"Reading files from \"+str(ranges[i])+\" to \" +str(ranges[i+1]))\n",
    "    processes[i] = mp.Process(target=readSetToBins, args=(ranges[i],ranges[i+1], i))\n",
    "\n",
    "\n",
    "for i in range(0,numProcess):\n",
    "    processes[i].start()\n",
    "\n",
    "for i in range(0,numProcess):\n",
    "    print(str(i)+ \"Done\")\n",
    "    processes[i].join()\n",
    "    \n",
    "print(\"All Done\")"
   ]
  },
  {
   "cell_type": "code",
   "execution_count": null,
   "metadata": {},
   "outputs": [],
   "source": [
    "#probably not the best way to do this:\n",
    "countArray = [None]*numProcess\n",
    "kszArray = [None]*numProcess\n",
    "for i in range(0,numProcess):\n",
    "    countArray[i] = outputCount.get()\n",
    "    kszArray[i] = outputSZ.get()\n",
    "    \n",
    "numcount = np.sum(countArray,axis=0)\n",
    "print(sum(numcount))\n",
    "\n",
    "n_bar = np.average(numcount)\n",
    "overdensity = (numcount-n_bar)/n_bar\n",
    "\n",
    "hp.mollview(numcount,xsize=3200, max=50)"
   ]
  },
  {
   "cell_type": "code",
   "execution_count": null,
   "metadata": {},
   "outputs": [],
   "source": [
    "hp.mollview(overdensity,xsize=3200,max=5)"
   ]
  },
  {
   "cell_type": "code",
   "execution_count": null,
   "metadata": {},
   "outputs": [],
   "source": [
    "almostkSZ = np.sum(kszArray,axis=0)\n",
    "hp.mollview(almostkSZ,xsize=3200,min=-5,max=5)"
   ]
  },
  {
   "cell_type": "code",
   "execution_count": null,
   "metadata": {},
   "outputs": [],
   "source": [
    "almosterkSZ = almostkSZ/(hp.nside2resol(nside)**2)\n",
    "hp.mollview(almosterkSZ,xsize=3200,min=-50000,max=50000)"
   ]
  },
  {
   "cell_type": "code",
   "execution_count": null,
   "metadata": {},
   "outputs": [],
   "source": [
    "plt.hist(almosterkSZ,bins=np.linspace(-100000,100000));"
   ]
  },
  {
   "cell_type": "code",
   "execution_count": null,
   "metadata": {},
   "outputs": [],
   "source": []
  }
 ],
 "metadata": {
  "kernelspec": {
   "display_name": "Python 3",
   "language": "python",
   "name": "python3"
  },
  "language_info": {
   "codemirror_mode": {
    "name": "ipython",
    "version": 3
   },
   "file_extension": ".py",
   "mimetype": "text/x-python",
   "name": "python",
   "nbconvert_exporter": "python",
   "pygments_lexer": "ipython3",
   "version": "3.8.10"
  }
 },
 "nbformat": 4,
 "nbformat_minor": 4
}
